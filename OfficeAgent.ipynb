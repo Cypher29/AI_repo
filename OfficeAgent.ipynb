{
  "nbformat": 4,
  "nbformat_minor": 0,
  "metadata": {
    "colab": {
      "provenance": [],
      "authorship_tag": "ABX9TyNGaMjX1PVwwsX1uy/VKV0H",
      "include_colab_link": true
    },
    "kernelspec": {
      "name": "python3",
      "display_name": "Python 3"
    },
    "language_info": {
      "name": "python"
    }
  },
  "cells": [
    {
      "cell_type": "markdown",
      "metadata": {
        "id": "view-in-github",
        "colab_type": "text"
      },
      "source": [
        "<a href=\"https://colab.research.google.com/github/Cypher29/AI_repo/blob/main/OfficeAgent.ipynb\" target=\"_parent\"><img src=\"https://colab.research.google.com/assets/colab-badge.svg\" alt=\"Open In Colab\"/></a>"
      ]
    },
    {
      "cell_type": "markdown",
      "source": [
        "**Install required packages**"
      ],
      "metadata": {
        "id": "cm9W5KjGBstJ"
      }
    },
    {
      "cell_type": "code",
      "execution_count": null,
      "metadata": {
        "id": "PuMAz-PRA0cw"
      },
      "outputs": [],
      "source": [
        "!pip install -q transformers datasets diffusers"
      ]
    },
    {
      "cell_type": "code",
      "source": [
        "pip install --upgrade gradio"
      ],
      "metadata": {
        "id": "p454YeFaLdEE"
      },
      "execution_count": null,
      "outputs": []
    },
    {
      "cell_type": "code",
      "source": [
        "pip install DateTime"
      ],
      "metadata": {
        "id": "2RMohaypv_Qs"
      },
      "execution_count": null,
      "outputs": []
    },
    {
      "cell_type": "markdown",
      "source": [
        "Import **packages**"
      ],
      "metadata": {
        "id": "UfHY5tHLCVfM"
      }
    },
    {
      "cell_type": "code",
      "source": [
        "from google.colab import userdata\n",
        "import gradio as gr\n",
        "from openai import OpenAI\n",
        "from datetime import date\n",
        "import json\n",
        "import os\n",
        "import pdb"
      ],
      "metadata": {
        "id": "0VoOUFyLBsWg"
      },
      "execution_count": null,
      "outputs": []
    },
    {
      "cell_type": "markdown",
      "source": [
        "**Initiate connection to OpenAI**"
      ],
      "metadata": {
        "id": "1Uu8DNUqCdu9"
      }
    },
    {
      "cell_type": "code",
      "source": [
        "os.environ['OPENAI_API_KEY'] = userdata.get('OPENAI_KEY')\n",
        "MODEL = 'gpt-4o-mini'\n",
        "openai = OpenAI()"
      ],
      "metadata": {
        "id": "IvPzwsucCbN8"
      },
      "execution_count": null,
      "outputs": []
    },
    {
      "cell_type": "markdown",
      "source": [
        "System Prompt"
      ],
      "metadata": {
        "id": "-lKtCgnxDSYa"
      }
    },
    {
      "cell_type": "code",
      "source": [
        "system_message = \"You are a helpful assistant for a software company called 'GamingDesign Ltd'\"\n",
        "system_message += \"Give short, courteous answers, no more than 1 sentence. \"\n",
        "system_message += \"Always be accurate. If you don't know the answer, say so.\""
      ],
      "metadata": {
        "id": "uZRo8sWECo2S"
      },
      "execution_count": null,
      "outputs": []
    },
    {
      "cell_type": "markdown",
      "source": [],
      "metadata": {
        "id": "ZwOV7yYlEkPE"
      }
    },
    {
      "cell_type": "code",
      "source": [
        "EmployeeRecords = [ {\"ID\": \"1011\", \"Name\": \"John\",\"Designation\":\"Manager\",\"location\": \"Hyderabad\"},\n",
        " {\"ID\": \"1015\", \"Name\": \"Carles\",\"Designation\":\"Sr Developer\",\"location\":\"Bengaluru\"},\n",
        "  {\"ID\": \"1016\", \"Name\": \"Rock\",\"Designation\":\"Developer\",\"location\":\"Hyderabad\"}]\n",
        "\n",
        "def get_employee_details(employee_name):\n",
        "    #pdb.set_trace()\n",
        "    print(f\"Tool get_employe_details called for {employee_name}\")\n",
        "    employee_name = employee_name.lower()\n",
        "    for employee in EmployeeRecords:\n",
        "        if employee_name.lower() in employee.get(\"Name\").lower():\n",
        "            return employee\n",
        "    return []"
      ],
      "metadata": {
        "id": "jCOH6njyDVmG"
      },
      "execution_count": null,
      "outputs": []
    },
    {
      "cell_type": "code",
      "source": [
        "get_employee_details('John')"
      ],
      "metadata": {
        "id": "wcDDFw7ILWuE"
      },
      "execution_count": null,
      "outputs": []
    },
    {
      "cell_type": "code",
      "source": [
        "\n",
        "MeetingRoomRecords = [{\n",
        "    \"roomName\"  : \"Newton\",\n",
        "    \"location\"  : \"Hyderabad\",\n",
        "},\n",
        "  {\n",
        "    \"roomName\"  : \"Einstein\",\n",
        "    \"location\"  : \"Hyderabad\",\n",
        "},\n",
        "  {\n",
        "    \"roomName\"  : \"Raman\",\n",
        "    \"location\"  : \"Chennai\",\n",
        "},]\n",
        "\n",
        "def get_meetingroom_details(meetingroom_name, meetingroom_location ):\n",
        "    meetingrooms= []\n",
        "    if meetingroom_name and meetingroom_location:\n",
        "        for meetingroom in MeetingRoomRecords:\n",
        "            if meetingroom.get(\"location\").lower() == meetingroom_location.lower() and meetingroom.get(\"roomName\").lower() == meetingroom_name.lower():\n",
        "                return True\n",
        "        return False\n",
        "    elif meetingroom_name:\n",
        "        for meetingroom in MeetingRoomRecords:\n",
        "            if meetingroom.get(\"roomName\").lower() == meetingroom_name.lower():\n",
        "              return meetingroom.get(\"location\")\n",
        "    elif meetingroom_location:\n",
        "        for meetingroom in MeetingRoomRecords:\n",
        "            if meetingroom.get(\"location\").lower() == meetingroom_location.lower():\n",
        "                meetingrooms.append(meetingroom)\n",
        "        return meetingrooms\n",
        "    else:\n",
        "        for meetingroom in MeetingRoomRecords:\n",
        "            meetingrooms.append(meetingroom.get(\"roomName\"))\n",
        "        return meetingrooms\n",
        "\n",
        "\n",
        "    return  \"unknown\""
      ],
      "metadata": {
        "id": "jcsZHThSU80Q"
      },
      "execution_count": null,
      "outputs": []
    },
    {
      "cell_type": "code",
      "source": [
        "def get_todays_date():\n",
        "    return str(date.today())"
      ],
      "metadata": {
        "id": "zxBjoTGxvasQ"
      },
      "execution_count": null,
      "outputs": []
    },
    {
      "cell_type": "code",
      "source": [
        "import datetime\n",
        "from datetime import date\n",
        "\n",
        "booking_information = {\n",
        "    \"Newton\":[\n",
        "        {\"from\": \"05/15/25 10:30:00\", \"to\": \"05/05/25 11:30:00\"},\n",
        "        {\"from\": \"05/23/25 14:00:00\", \"to\": \"05/23/25 15:00:00\"},\n",
        "        {\"from\": \"05/25/25 11:00:00\", \"to\": \"05/25/25 11:30:00\"},\n",
        "        {\"from\": \"05/25/25 13:00:00\", \"to\": \"05/25/25 14:00:00\"}\n",
        "    ],\n",
        "    \"Raman\":[\n",
        "        {\"from\": \"05/10/25 09:15:00\", \"to\": \"05/10/25 10:00:00\"},\n",
        "        {\"from\": \"05/11/25 15:00:00\", \"to\": \"05/11/25 16:00:00\"}\n",
        "    ],\n",
        "    \"Einstein\":[\n",
        "        {\"from\": \"05/06/25 15:00:00\", \"to\": \"05/06/25 16:30:00\"},\n",
        "        {\"from\": \"05/10/25 10:15:00\", \"to\": \"05/10/25 10:45:00\"},\n",
        "        {\"from\": \"05/11/25 12:00:00\", \"to\": \"05/11/25 15:00:00\"}\n",
        "    ]\n",
        "\n",
        "}\n",
        "\n",
        "def get_meetingroom_bookings(meetingroom_name, meetingdate, fromtime, totime ):\n",
        "    if not meetingroom_name:\n",
        "        return \"unknown\"\n",
        "   # pdb.set_trace()\n",
        "    for key, value in booking_information.items():\n",
        "        if key.lower() in meetingroom_name.lower():\n",
        "            for booking in value:\n",
        "                from_datetime = datetime.datetime.strptime(meetingdate+\" \"+fromtime, '%m/%d/%y %H:%M:%S')\n",
        "                to_datetime = datetime.datetime.strptime(meetingdate+\" \"+totime, '%m/%d/%y %H:%M:%S')\n",
        "                meeting_from_datetime = datetime.datetime.strptime(booking.get(\"from\"),'%m/%d/%y %H:%M:%S')\n",
        "                meeting_to_datetime = datetime.datetime.strptime(booking.get(\"to\"),'%m/%d/%y %H:%M:%S')\n",
        "                if meeting_from_datetime <= from_datetime and   meeting_to_datetime > from_datetime or meeting_from_datetime <= to_datetime and  meeting_to_datetime > to_datetime:\n",
        "                    return 1\n",
        "                if(from_datetime <= meeting_from_datetime and to_datetime >= meeting_to_datetime):\n",
        "                    return 1\n",
        "            return 2\n",
        "    return 0\n"
      ],
      "metadata": {
        "id": "f-Ic3-0uuq1l"
      },
      "execution_count": null,
      "outputs": []
    },
    {
      "cell_type": "code",
      "source": [
        "get_meetingroom_bookings(\"Einstein\",\"06/05/25\",\"03:00:00\",\"04:30:00\")"
      ],
      "metadata": {
        "id": "GEizkplrsZHr"
      },
      "execution_count": null,
      "outputs": []
    },
    {
      "cell_type": "code",
      "source": [
        "get_meetingroom_details(\"Raman\",None)"
      ],
      "metadata": {
        "id": "RZCUAWZA4Sms"
      },
      "execution_count": null,
      "outputs": []
    },
    {
      "cell_type": "code",
      "source": [
        "employee_details_function = {\n",
        "    \"name\": \"get_employee_details\",\n",
        "    \"description\": \"Get the details of an employee, like designation, location and id. Call this whenever you need to know the employee details or employee information, for example when a customer asks 'give details about this employee' or ' who is this employee' or 'what is id of this employee' or 'location of the employee'\",\n",
        "    \"parameters\": {\n",
        "        \"type\": \"object\",\n",
        "        \"properties\": {\n",
        "            \"employee_name\": {\n",
        "                \"type\": \"string\",\n",
        "                \"description\": \"Name of the employee whose details wanted\",\n",
        "            },\n",
        "        },\n",
        "        \"required\": [\"employee_name\"],\n",
        "        \"additionalProperties\": False\n",
        "    }\n",
        "}"
      ],
      "metadata": {
        "id": "gd9PRn-iNnAv"
      },
      "execution_count": null,
      "outputs": []
    },
    {
      "cell_type": "code",
      "source": [
        "tools = [{\"type\": \"function\", \"function\": employee_details_function}]"
      ],
      "metadata": {
        "id": "8ozwF40LUvYB"
      },
      "execution_count": null,
      "outputs": []
    },
    {
      "cell_type": "code",
      "source": [
        "meetingroom_details_functions ={\n",
        "    \"name\": \"get_meetingroom_details\",\n",
        "    \"description\": \"Get the details of a meeting room, like meeting room names and location, for example when a customer asks 'where is this meeting room ' or ' gice rooms in this location'\",\n",
        "    \"parameters\": {\n",
        "        \"type\": \"object\",\n",
        "        \"properties\": {\n",
        "            \"meetingroom_name\": {\n",
        "                \"type\": \"string\",\n",
        "                \"description\": \"Name of the meetingroom\",\n",
        "            },\n",
        "            \"meetingroom_location\": {\n",
        "                \"type\": \"string\",\n",
        "                \"description\": \"Name of the meetingroom\",\n",
        "            },\n",
        "        },\n",
        "        \"additionalProperties\": False\n",
        "  }\n",
        "}\n"
      ],
      "metadata": {
        "id": "vtuxtuvBTPe1"
      },
      "execution_count": null,
      "outputs": []
    },
    {
      "cell_type": "code",
      "source": [
        "meetingroom_bookings_functions ={\n",
        "    \"name\": \"get_meetingroom_bookings\",\n",
        "    \"description\": \"check the meeting room availability, convert given time format as HH:MM:SS and date format as MM:DD:YY, this checks meeting room is free on perticular date time, for example when a customer asks 'is the meeting room available between time ' or 'check meeting room availability'\",\n",
        "    \"parameters\": {\n",
        "        \"type\": \"object\",\n",
        "        \"properties\": {\n",
        "            \"meetingroom_name\": {\n",
        "                \"type\": \"string\",\n",
        "                \"description\": \"Name of the meetingroom\",\n",
        "            },\n",
        "            \"meetingdate\": {\n",
        "                \"type\": \"string\",\n",
        "                \"description\": \"Date of the meeting\",\n",
        "            },\n",
        "            \"fromtime\": {\n",
        "                \"type\": \"string\",\n",
        "                \"description\": \"start time of the meeting\",\n",
        "            },\n",
        "            \"totime\": {\n",
        "                \"type\": \"string\",\n",
        "                \"description\": \"end time of the meeting\"\n",
        "            },\n",
        "        },\n",
        "        \"required\": [\"meetingroom_name\",\"meetingdate\",\"fromtime\",\"totime\"],\n",
        "        \"additionalProperties\": False\n",
        "  }\n",
        "}\n"
      ],
      "metadata": {
        "id": "mJwT6Sut7Sc5"
      },
      "execution_count": null,
      "outputs": []
    },
    {
      "cell_type": "code",
      "source": [
        "todays_date_functions ={\n",
        "    \"name\": \"get_todays_date\",\n",
        "    \"description\": \"Get the today's date, for example when a customer asks 'what is today's date ' or 'today's date'\",\n",
        "    \"additionalProperties\": False\n",
        "  }\n"
      ],
      "metadata": {
        "id": "AcsFElBbuk-n"
      },
      "execution_count": null,
      "outputs": []
    },
    {
      "cell_type": "code",
      "source": [
        "tools = [{\"type\": \"function\", \"function\": employee_details_function},\n",
        "         {\"type\": \"function\", \"function\": meetingroom_details_functions},\n",
        "         {\"type\": \"function\", \"function\": todays_date_functions},\n",
        "         {\"type\": \"function\", \"function\": meetingroom_bookings_functions}]"
      ],
      "metadata": {
        "id": "fijDQuekOw6q"
      },
      "execution_count": null,
      "outputs": []
    },
    {
      "cell_type": "code",
      "source": [
        "#import pdb\n",
        "def chat(message, history):\n",
        "    messages = [{\"role\": \"system\", \"content\": system_message}] + history + [{\"role\": \"user\", \"content\": message}]\n",
        "    #pdb.set_trace()\n",
        "    #messages = [{\"role\": \"system\", \"content\": system_message}] + [{\"role\": \"user\", \"content\": message}]\n",
        "    response = openai.chat.completions.create(model=MODEL, messages=messages, tools=tools, tool_choice=\"auto\")\n",
        "\n",
        "\n",
        "    if response.choices[0].finish_reason==\"tool_calls\":\n",
        "        message = response.choices[0].message\n",
        "        response = handle_tool_call(message)\n",
        "        messages.append(message)\n",
        "        messages.append(response)\n",
        "        response = openai.chat.completions.create(model=MODEL, messages=messages, tools=tools, tool_choice=\"auto\")\n",
        "        if response.choices[0].finish_reason==\"tool_calls\":\n",
        "              message = response.choices[0].message\n",
        "              response = handle_tool_call(message)\n",
        "              messages.append(message)\n",
        "              messages.append(response)\n",
        "              response = openai.chat.completions.create(model=MODEL, messages=messages, tools=tools, tool_choice=\"auto\")\n",
        "              if response.choices[0].finish_reason==\"tool_calls\":\n",
        "                  message = response.choices[0].message\n",
        "                  response = handle_tool_call(message)\n",
        "                  messages.append(message)\n",
        "                  messages.append(response)\n",
        "                  response = openai.chat.completions.create(model=MODEL, messages=messages)\n",
        "    #pdb.set_trace()\n",
        "  #  talker(response.choices[0].message.content)\n",
        "   # audio_stream = BytesIO(response.choices[0].message.content)\n",
        "   # audio = AudioSegment.from_file(audio_stream, format=\"mp3\")\n",
        "   # play(audio)\n",
        "    return response.choices[0].message.content"
      ],
      "metadata": {
        "id": "Vj9gYligO_JH"
      },
      "execution_count": null,
      "outputs": []
    },
    {
      "cell_type": "code",
      "source": [
        "#chat(\"Meeting room name Newton and time between '09:00:00' and '10:20:00'\",[])\n",
        "#chat(\"check meeting room Newton availability on 01/05/25 between '09:00:00' and '10:20:00'\",[])\n",
        "#chat(\"check meeting room Newton availability today between '09:00:00' and '10:20:00'\",[])\n",
        "#chat(\"availability of meeting room today at 9 am to 10 am\",[])\n",
        "chat(\"check Einstein room between 3 to 5:30 pm on today\",[])\n",
        "#chat(\"Can you check Newton is free today\",[])\n",
        "#chat(\"Who are you\",[])"
      ],
      "metadata": {
        "id": "EGjcPHITfcQH"
      },
      "execution_count": null,
      "outputs": []
    },
    {
      "cell_type": "code",
      "source": [
        "\n",
        "def handle_tool_call(message):\n",
        "    tool_call = message.tool_calls[0]\n",
        "    arguments = json.loads(tool_call.function.arguments)\n",
        "    #pdb.set_trace()\n",
        "    if tool_call.function.name == \"get_todays_date\":\n",
        "        todayDate = get_todays_date()\n",
        "        response = {\n",
        "              \"role\": \"tool\",\n",
        "              \"content\": json.dumps({\"Today's date\": todayDate}),\n",
        "              \"tool_call_id\": tool_call.id\n",
        "            }\n",
        "    elif tool_call.function.name == \"get_employee_details\":\n",
        "        employee_name = arguments.get('employee_name')\n",
        "        employeeRecord = get_employee_details(employee_name)\n",
        "        if employeeRecord:\n",
        "            response = {\n",
        "              \"role\": \"tool\",\n",
        "              \"content\": json.dumps({\"employee_name\": employee_name,\"emploee ID\": employeeRecord.get(\"ID\"),\"Employee Designation\": employeeRecord.get(\"Designation\"),\"Employee location\": employeeRecord.get(\"location\")}),\n",
        "              \"tool_call_id\": tool_call.id\n",
        "            }\n",
        "        else:\n",
        "            response = {\n",
        "            \"role\": \"tool\",\n",
        "            \"content\": json.dumps({\"employee_name\": employee_name,\"error\": \"Employee not found\"}),\n",
        "            \"tool_call_id\": tool_call.id\n",
        "        }\n",
        "    elif tool_call.function.name == \"get_meetingroom_details\":\n",
        "        meetingroom_name = arguments.get('meetingroom_name')\n",
        "        if not meetingroom_name:\n",
        "            meetingroom_name = None\n",
        "        meetingroom_location = arguments.get('meetingroom_location')\n",
        "        if not meetingroom_location:\n",
        "            meetingroom_location = None\n",
        "        result = get_meetingroom_details(meetingroom_name,meetingroom_location)\n",
        "        if type(result) == bool:\n",
        "          if result == True:\n",
        "            response = {\n",
        "              \"role\": \"tool\",\n",
        "              \"content\": json.dumps({\"meetingroom_name\":meetingroom_name, \"meetingroom_location\":meetingroom_location, \"info\": \"meeting room is exist in the current location\"}),\n",
        "              \"tool_call_id\": tool_call.id\n",
        "            }\n",
        "          else:\n",
        "            response = {\n",
        "              \"role\": \"tool\",\n",
        "              \"content\": json.dumps({\"meetingroom_name\":meetingroom_name, \"meetingroom_location\":meetingroom_location, \"info\": \"meeting room is not exist in the current location\"}),\n",
        "              \"tool_call_id\": tool_call.id\n",
        "            }\n",
        "        else:\n",
        "          if meetingroom_name:\n",
        "            response = {\n",
        "              \"role\": \"tool\",\n",
        "              \"content\": json.dumps({\"meetingroom_name\":meetingroom_name, \"meetingroom_location\":result, \"info\": \"meeting room is in this location\"}),\n",
        "              \"tool_call_id\": tool_call.id\n",
        "            }\n",
        "          else:\n",
        "            response = {\n",
        "              \"role\": \"tool\",\n",
        "              \"content\": json.dumps({\"meetingroom_name\":result, \"meetingroom_location\":meetingroom_location, \"info\": \"these meeting rooms are exist in the current location\"}),\n",
        "              \"tool_call_id\": tool_call.id\n",
        "            }\n",
        "    elif tool_call.function.name == \"get_meetingroom_bookings\":\n",
        "        meetingroom_name = arguments.get('meetingroom_name')\n",
        "        meetingdate = arguments.get('meetingdate')\n",
        "        fromtime = arguments.get('fromtime')\n",
        "        totime = arguments.get('totime')\n",
        "        result = get_meetingroom_bookings(meetingroom_name,meetingdate,fromtime,totime)\n",
        "        if result == 0:\n",
        "          response = {\n",
        "              \"role\": \"tool\",\n",
        "              \"content\": json.dumps({\"meetingroom_name\":meetingroom_name, \"meetingdate\":meetingdate, \"fromtime\":fromtime,\"totime\":totime,\"error\": \"meeting room doesn not exist in this company, please ask for existing meeting rooms\"}),\n",
        "              \"tool_call_id\": tool_call.id\n",
        "            }\n",
        "        elif result == 1:\n",
        "          response = {\n",
        "              \"role\": \"tool\",\n",
        "              \"content\": json.dumps({\"meetingroom_name\":meetingroom_name, \"meetingdate\":meetingdate, \"fromtime\":fromtime,\"totime\":totime,\"info\": \"meeting room is not available it is booked by some one\"}),\n",
        "              \"tool_call_id\": tool_call.id\n",
        "            }\n",
        "        else:\n",
        "          response = {\n",
        "              \"role\": \"tool\",\n",
        "              \"content\": json.dumps({\"meetingroom_name\":meetingroom_name, \"meetingdate\":meetingdate, \"fromtime\":fromtime,\"totime\":totime,\"info\": \"meeting room is available to book\"}),\n",
        "              \"tool_call_id\": tool_call.id\n",
        "            }\n",
        "    else:\n",
        "        response = {\n",
        "            \"role\": \"tool\",\n",
        "            \"content\": json.dumps({\"employee_name\": employee_name,\"error\": \"I don't have this knowledge\"}),\n",
        "            \"tool_call_id\": tool_call.id\n",
        "        }\n",
        "    return response"
      ],
      "metadata": {
        "id": "4_nuuDGOPJh0"
      },
      "execution_count": null,
      "outputs": []
    },
    {
      "cell_type": "code",
      "source": [
        "gr.ChatInterface(fn=chat, type=\"messages\").launch(debug=True)"
      ],
      "metadata": {
        "id": "MWQUPY5lQE5g"
      },
      "execution_count": null,
      "outputs": []
    },
    {
      "cell_type": "markdown",
      "source": [
        "**Working with Audio AI models **"
      ],
      "metadata": {
        "id": "paIyfvqBW5tG"
      }
    },
    {
      "cell_type": "code",
      "source": [
        "!pip install -q transformers datasets diffusers\n",
        "\n",
        "\n",
        "!ffmpeg -version\n",
        "!ffprobe -version\n",
        "!ffplay -version\n",
        "\n",
        "\n",
        "\n",
        "!pip install simpleaudio\n",
        "\n"
      ],
      "metadata": {
        "id": "eG2X-9NHkEx_"
      },
      "execution_count": null,
      "outputs": []
    },
    {
      "cell_type": "code",
      "source": [
        "import torch\n",
        "from google.colab import userdata\n",
        "from huggingface_hub import login\n",
        "from transformers import pipeline\n",
        "from datasets import load_dataset\n",
        "\n",
        "\n",
        "from pydub import AudioSegment\n",
        "from pydub.playback import play\n",
        "from io import BytesIO\n",
        "from IPython.display import Audio"
      ],
      "metadata": {
        "id": "dEipegcjicdN"
      },
      "execution_count": null,
      "outputs": []
    },
    {
      "cell_type": "code",
      "source": [
        "from google.colab import drive\n",
        "drive.mount('/content/drive')"
      ],
      "metadata": {
        "id": "eePUnB5aneaP"
      },
      "execution_count": null,
      "outputs": []
    },
    {
      "cell_type": "code",
      "source": [
        "hf_token = userdata.get('HUGGINGFACE_KEY')\n",
        "login(hf_token, add_to_git_credential=True)"
      ],
      "metadata": {
        "id": "mqQAzkvQi1Zw"
      },
      "execution_count": null,
      "outputs": []
    },
    {
      "cell_type": "code",
      "source": [
        "synthesiser = pipeline(\"text-to-speech\", \"microsoft/speecht5_tts\", device='cuda')\n",
        "\n",
        "embeddings_dataset = load_dataset(\"Matthijs/cmu-arctic-xvectors\", split=\"validation\")\n",
        "speaker_embedding = torch.tensor(embeddings_dataset[7306][\"xvector\"]).unsqueeze(0)\n",
        "\n",
        "speech = synthesiser(\"Hi to an artificial intelligence engineer, on the way to mastery!\", forward_params={\"speaker_embeddings\": speaker_embedding})\n",
        "\n",
        "sf.write(\"speech.wav\", speech[\"audio\"], samplerate=speech[\"sampling_rate\"])\n",
        "Audio(\"speech.wav\")"
      ],
      "metadata": {
        "id": "xb1dAvLCjSkd"
      },
      "execution_count": null,
      "outputs": []
    },
    {
      "cell_type": "code",
      "source": [
        "import simpleaudio as sa\n",
        "def talker(message):\n",
        "  synthesiser = pipeline(\"text-to-speech\", \"microsoft/speecht5_tts\", device='cuda')\n",
        "\n",
        "  embeddings_dataset = load_dataset(\"Matthijs/cmu-arctic-xvectors\", split=\"validation\")\n",
        "  speaker_embedding = torch.tensor(embeddings_dataset[7306][\"xvector\"]).unsqueeze(0)\n",
        "\n",
        "  speech = synthesiser(message, forward_params={\"speaker_embeddings\": speaker_embedding})\n",
        "\n",
        "  sf.write(\"speech.wav\", speech[\"audio\"], samplerate=speech[\"sampling_rate\"])\n",
        "\n",
        "  Audio(\"speech.wav\", autoplay=True)\n"
      ],
      "metadata": {
        "id": "juzZTFujlcet"
      },
      "execution_count": null,
      "outputs": []
    },
    {
      "cell_type": "code",
      "source": [
        "import simpleaudio as sa\n",
        "def talker(message):\n",
        "  synthesiser = pipeline(\"text-to-speech\", \"microsoft/speecht5_tts\", device='cuda')\n",
        "\n",
        "  embeddings_dataset = load_dataset(\"Matthijs/cmu-arctic-xvectors\", split=\"validation\")\n",
        "  speaker_embedding = torch.tensor(embeddings_dataset[7306][\"xvector\"]).unsqueeze(0)\n",
        "\n",
        "  speech = synthesiser(message, forward_params={\"speaker_embeddings\": speaker_embedding})\n",
        "\n",
        "  sf.write(\"speech.wav\", speech[\"audio\"], samplerate=speech[\"sampling_rate\"])\n",
        "\n",
        "# Load and play audio using simpleaudio\n",
        "  wave_obj = sa.WaveObject.from_wave_file(\"speech.wav\")\n",
        "  play_obj = wave_obj.play()\n",
        "  play_obj.wait_done()  # Wait for playback to finish\n",
        "\n",
        "    # Clean up the temporary file afterward\n",
        "  os.remove(\"speech.wav\")\n"
      ],
      "metadata": {
        "id": "LGDNKoL5p0BY"
      },
      "execution_count": null,
      "outputs": []
    },
    {
      "cell_type": "code",
      "source": [
        "talker(\"Well, hi there\")"
      ],
      "metadata": {
        "id": "C7GftmdomgPN"
      },
      "execution_count": null,
      "outputs": []
    }
  ]
}