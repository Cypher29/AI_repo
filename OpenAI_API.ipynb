{
  "nbformat": 4,
  "nbformat_minor": 0,
  "metadata": {
    "colab": {
      "provenance": [],
      "authorship_tag": "ABX9TyO82EDZU0cfM9rs8hZfPvMO",
      "include_colab_link": true
    },
    "kernelspec": {
      "name": "python3",
      "display_name": "Python 3"
    },
    "language_info": {
      "name": "python"
    }
  },
  "cells": [
    {
      "cell_type": "markdown",
      "metadata": {
        "id": "view-in-github",
        "colab_type": "text"
      },
      "source": [
        "<a href=\"https://colab.research.google.com/github/Cypher29/AI_repo/blob/main/OpenAI_API.ipynb\" target=\"_parent\"><img src=\"https://colab.research.google.com/assets/colab-badge.svg\" alt=\"Open In Colab\"/></a>"
      ]
    },
    {
      "cell_type": "code",
      "source": [
        "pip install openai"
      ],
      "metadata": {
        "id": "0GvLeG2PZztt"
      },
      "execution_count": null,
      "outputs": []
    },
    {
      "cell_type": "code",
      "source": [
        "pip install openai-agents"
      ],
      "metadata": {
        "id": "e4IIhwF7ahv4"
      },
      "execution_count": null,
      "outputs": []
    },
    {
      "cell_type": "code",
      "execution_count": null,
      "metadata": {
        "id": "OcJTU3m1ZLEF"
      },
      "outputs": [],
      "source": [
        "from agents import Agent, Runner, trace, function_tool\n",
        "from openai.types.responses import ResponseTextDeltaEvent\n",
        "from typing import Dict\n",
        "from openai import OpenAI\n",
        "from google.colab import userdata\n",
        "import os\n",
        "import asyncio"
      ]
    },
    {
      "cell_type": "code",
      "source": [
        "os.environ['OPENAI_API_KEY'] = userdata.get('OPENAI_MY_KEY')\n",
        "MODEL = 'gpt-4o-mini'\n",
        "openai = OpenAI()"
      ],
      "metadata": {
        "id": "LKHDijtDbOOG"
      },
      "execution_count": null,
      "outputs": []
    },
    {
      "cell_type": "code",
      "source": [
        "agent = Agent(name=\"Jokester\", instructions=\"You are a joke teller\", model=\"gpt-4o-mini\")\n",
        "SubjectAgent = Agent(name=\"MailSubject\", instructions=\"you are a email subject creater\", model=\"gpt-4o-mini\")\n",
        "EmailBody = Agent(name=\"MailBody\", instructions=\"you are a email body creater with nice formatting\", model=\"gpt-4o-mini\")\n"
      ],
      "metadata": {
        "id": "0CKKr_1WavRc"
      },
      "execution_count": null,
      "outputs": []
    },
    {
      "cell_type": "code",
      "source": [
        "agent"
      ],
      "metadata": {
        "id": "nGtsuYgEbnlj"
      },
      "execution_count": null,
      "outputs": []
    },
    {
      "cell_type": "code",
      "source": [
        "with trace(\"Telling a joke\"):\n",
        "    result = await Runner.run(agent, \"Tell a joke about Autonomous AI Agents\")\n",
        "    print(result.final_output)"
      ],
      "metadata": {
        "id": "_Nxdpkntaz02"
      },
      "execution_count": null,
      "outputs": []
    },
    {
      "cell_type": "code",
      "source": [
        "with trace(\"Email Creation\"):\n",
        "    result = await Runner.run(agent, \"Tell a joke about Autonomous AI Agents\")\n",
        "    print(result.final_output)"
      ],
      "metadata": {
        "id": "-J4UlrgVhXRA"
      },
      "execution_count": null,
      "outputs": []
    },
    {
      "cell_type": "code",
      "source": [
        "@function_tool\n",
        "def send_email(body: str):\n",
        "    \"\"\" Send out an email with the given body to all sales prospects \"\"\"\n",
        "    print(f\"Sending email with body: {body}\")\n",
        "    return {\"status\": \"success\"}"
      ],
      "metadata": {
        "id": "s3XG3egfh-gI"
      },
      "execution_count": null,
      "outputs": []
    },
    {
      "cell_type": "code",
      "source": [
        "send_email"
      ],
      "metadata": {
        "id": "MxcSsoMKiCXy"
      },
      "execution_count": null,
      "outputs": []
    },
    {
      "cell_type": "code",
      "source": [
        "tool1 = SubjectAgent.as_tool(tool_name=\"emailSubject\", tool_description=\" you will create subject\")\n",
        "tools = [tool1,  send_email]"
      ],
      "metadata": {
        "id": "18VshlX2iV0z"
      },
      "execution_count": null,
      "outputs": []
    },
    {
      "cell_type": "code",
      "source": [
        "tools"
      ],
      "metadata": {
        "id": "eT3CLm4YilkS"
      },
      "execution_count": null,
      "outputs": []
    }
  ]
}